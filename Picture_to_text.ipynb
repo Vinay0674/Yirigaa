{
  "nbformat": 4,
  "nbformat_minor": 0,
  "metadata": {
    "colab": {
      "provenance": [],
      "authorship_tag": "ABX9TyMTsq+8hh5qyKlKm+YM40f+",
      "include_colab_link": true
    },
    "kernelspec": {
      "name": "python3",
      "display_name": "Python 3"
    },
    "language_info": {
      "name": "python"
    }
  },
  "cells": [
    {
      "cell_type": "markdown",
      "metadata": {
        "id": "view-in-github",
        "colab_type": "text"
      },
      "source": [
        "<a href=\"https://colab.research.google.com/github/Vinay0674/Yirigaa/blob/main/Picture_to_text.ipynb\" target=\"_parent\"><img src=\"https://colab.research.google.com/assets/colab-badge.svg\" alt=\"Open In Colab\"/></a>"
      ]
    },
    {
      "cell_type": "code",
      "execution_count": 25,
      "metadata": {
        "id": "vRGS76g6gAEE"
      },
      "outputs": [],
      "source": [
        "import os,io\n",
        "from google.cloud import vision\n",
        "from google.cloud import vision_v1\n",
        "from google.cloud.vision_v1 import types\n",
        "import pandas as pd\n"
      ]
    },
    {
      "cell_type": "code",
      "source": [
        "os.environ['GOOGLE_APPLICATION_CREDENTIALS']= r'/content/vision-api-395506-402bc99f3534.json'\n",
        "client=vision_v1.ImageAnnotatorClient()"
      ],
      "metadata": {
        "id": "WrJXohsynopD"
      },
      "execution_count": 26,
      "outputs": []
    },
    {
      "cell_type": "code",
      "source": [
        "FOLDER_PATH = r'/content/sample_data'\n",
        "IMAGE_FILE = '2.jpg'\n",
        "FILE_PATH = os.path.join(FOLDER_PATH, IMAGE_FILE)"
      ],
      "metadata": {
        "id": "v2xlHn31_11O"
      },
      "execution_count": 30,
      "outputs": []
    },
    {
      "cell_type": "code",
      "source": [
        "with io.open(FILE_PATH, 'rb') as image_file:\n",
        "  content=image_file.read()"
      ],
      "metadata": {
        "id": "o9zr64RvAUGV"
      },
      "execution_count": 31,
      "outputs": []
    },
    {
      "cell_type": "code",
      "source": [
        "image=vision_v1.types.Image(content=content)\n",
        "response=client.document_text_detection(image=image)\n",
        "docText=response.full_text_annotation.text\n",
        "print(docText)"
      ],
      "metadata": {
        "colab": {
          "base_uri": "https://localhost:8080/"
        },
        "id": "gouCzHULAgn5",
        "outputId": "dcd8f02e-60e4-45ec-8ecf-105bd9b3ba0e"
      },
      "execution_count": 32,
      "outputs": [
        {
          "output_type": "stream",
          "name": "stdout",
          "text": [
            "Life-Changing Mother\n",
            "our\n",
            "Just a few years ago, I thought\n",
            "my mother wasn't anything out-of-this-\n",
            "world. I thought everything she did, from\n",
            "packing my bag so it is ready in the\n",
            "morning, to taking care of 3 elderly, to\n",
            "helping\n",
            "building get vaccinated was\n",
            "normal and attainable. As I started getting\n",
            "older, I began to realize how much my\n",
            "mom does, and a\n",
            "thought began forming\n",
            "my mind:\n",
            "My mom might not wear a cape,\n",
            "but she truly\n",
            "a superhero. She's the type\n",
            "who isn't recognized for what she does each.\n",
            "and\n",
            "IS\n",
            "But to me, my mother is more than_a\n",
            "role model for success. I\n",
            "Mother. She's\n",
            "look\n",
            "my\n",
            "ир\n",
            "to her in so many ways. Her bravery,\n",
            "courage, wisdom, and knowledge are only some\n",
            "ways. I want to follow in her footsteps as she\n",
            "is the most in credible mother I know.\n"
          ]
        }
      ]
    }
  ]
}